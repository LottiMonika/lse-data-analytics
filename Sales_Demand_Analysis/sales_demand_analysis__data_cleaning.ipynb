{
  "cells": [
    {
      "cell_type": "markdown",
      "id": "cd055437-7af0-4452-8f7c-d2013bbc375a",
      "metadata": {
        "id": "cd055437-7af0-4452-8f7c-d2013bbc375a"
      },
      "source": [
        "## Data cleaning"
      ]
    },
    {
      "cell_type": "markdown",
      "id": "40a4492c-5e6a-465c-b98c-db8891c7a3c5",
      "metadata": {
        "id": "40a4492c-5e6a-465c-b98c-db8891c7a3c5"
      },
      "source": [
        "### Import libraries"
      ]
    },
    {
      "cell_type": "code",
      "execution_count": null,
      "id": "11427eae-3517-4187-a5d6-90996577627f",
      "metadata": {
        "id": "11427eae-3517-4187-a5d6-90996577627f"
      },
      "outputs": [],
      "source": [
        "# Import libraries.\n",
        "import pandas as pd\n",
        "import numpy as np\n",
        "import re"
      ]
    },
    {
      "cell_type": "markdown",
      "id": "6a6020bb-4955-40cf-b0d3-dcba78885d2d",
      "metadata": {
        "id": "6a6020bb-4955-40cf-b0d3-dcba78885d2d"
      },
      "source": [
        "## Client sales data"
      ]
    },
    {
      "cell_type": "markdown",
      "id": "4a50e2d2-e02e-4e0f-9bd0-9cac2f315d53",
      "metadata": {
        "id": "4a50e2d2-e02e-4e0f-9bd0-9cac2f315d53"
      },
      "source": [
        "### Load data"
      ]
    },
    {
      "cell_type": "code",
      "execution_count": null,
      "id": "88e9f1a0-a336-47ab-bd48-6679a74ceba3",
      "metadata": {
        "id": "88e9f1a0-a336-47ab-bd48-6679a74ceba3"
      },
      "outputs": [],
      "source": [
        "# Load \"2021 Client Sales\" data.\n",
        "sales_2021 = pd.read_csv('2021 Client Sales.csv')\n",
        "\n",
        "# Load \"2022 Client Sales\" data.\n",
        "sales_2022 = pd.read_csv('2022 Client Sales.csv')"
      ]
    },
    {
      "cell_type": "markdown",
      "id": "4dabce7a-81c8-4b1f-bf8d-1a13b0ebd41a",
      "metadata": {
        "id": "4dabce7a-81c8-4b1f-bf8d-1a13b0ebd41a"
      },
      "source": [
        "### View data"
      ]
    },
    {
      "cell_type": "code",
      "execution_count": null,
      "id": "1df61ba8-aabd-45e3-ab2d-32f2772ba3e3",
      "metadata": {
        "id": "1df61ba8-aabd-45e3-ab2d-32f2772ba3e3"
      },
      "outputs": [],
      "source": [
        "# View sales_2021 head.\n",
        "sales_2021.head()"
      ]
    },
    {
      "cell_type": "code",
      "execution_count": null,
      "id": "a16fb654-2eba-43bf-a80c-3246d0abe2cd",
      "metadata": {
        "id": "a16fb654-2eba-43bf-a80c-3246d0abe2cd"
      },
      "outputs": [],
      "source": [
        "# View sales_2021 tail.\n",
        "sales_2021.tail()"
      ]
    },
    {
      "cell_type": "code",
      "execution_count": null,
      "id": "751e23b8-d2c0-4269-9d69-e42365e78207",
      "metadata": {
        "id": "751e23b8-d2c0-4269-9d69-e42365e78207"
      },
      "outputs": [],
      "source": [
        "# View sales_2022 head.\n",
        "sales_2022.head()"
      ]
    },
    {
      "cell_type": "code",
      "execution_count": null,
      "id": "f5f0d352-892b-4cc8-b790-53dc676b0e4b",
      "metadata": {
        "id": "f5f0d352-892b-4cc8-b790-53dc676b0e4b"
      },
      "outputs": [],
      "source": [
        "# View sales_2022 tail.\n",
        "sales_2022.tail()"
      ]
    },
    {
      "cell_type": "markdown",
      "id": "7cb4c5de-3427-4e1f-ac60-df6d94a431ed",
      "metadata": {
        "id": "7cb4c5de-3427-4e1f-ac60-df6d94a431ed"
      },
      "source": [
        "### Data cleaning"
      ]
    },
    {
      "cell_type": "markdown",
      "id": "efda54f9-3ff0-463d-a2a3-61a5eeafc625",
      "metadata": {
        "id": "efda54f9-3ff0-463d-a2a3-61a5eeafc625"
      },
      "source": [
        "#### Validating the data"
      ]
    },
    {
      "cell_type": "code",
      "execution_count": null,
      "id": "ece25f2e-2885-4919-993e-83d9ff4799d4",
      "metadata": {
        "id": "ece25f2e-2885-4919-993e-83d9ff4799d4"
      },
      "outputs": [],
      "source": [
        "# Validate the data function.\n",
        "def validate_data(df):\n",
        "\n",
        "    # Check the data types.\n",
        "    data_types = df.dtypes\n",
        "    print(\"Data types:\")\n",
        "    print(data_types)\n",
        "\n",
        "    # Check the data shape.\n",
        "    data_shape = df.shape\n",
        "    print(\"Data shape:\")\n",
        "    print(data_shape)\n",
        "\n",
        "    # Check for unique values\n",
        "    unique_counts = df.nunique()\n",
        "    print(\"Unique values per column:\")\n",
        "    print(unique_counts)\n",
        "\n",
        "    # Check for duplicates\n",
        "    duplicate_count = df.duplicated().sum()\n",
        "    print(\"\\nNumber of duplicate rows:\")\n",
        "    print(duplicate_count)\n",
        "\n",
        "    # Summary statistics\n",
        "    summary_stats = df.describe()\n",
        "    print(\"\\nSummary statistics:\")\n",
        "    print(summary_stats)\n",
        "\n",
        "    return data_types, data_shape, unique_counts, duplicate_count, summary_stats"
      ]
    },
    {
      "cell_type": "code",
      "execution_count": null,
      "id": "7f918294-3036-458c-8838-1408ab7df5d2",
      "metadata": {
        "id": "7f918294-3036-458c-8838-1408ab7df5d2"
      },
      "outputs": [],
      "source": [
        "# Validating sales_2021.\n",
        "validate_data(sales_2021)"
      ]
    },
    {
      "cell_type": "markdown",
      "id": "b0270e4a-52af-4d83-b850-4275d5ba629c",
      "metadata": {
        "id": "b0270e4a-52af-4d83-b850-4275d5ba629c"
      },
      "source": [
        "***Notes on validation***:\n",
        "- Some incorrect data types. The codes need to be strings. Date needs to be in datetime format.\n",
        "- Unique values: All provinces & all dates are in the data set (365).\n",
        "- Max sold units is 245 which seems reasonable. The minimum is a negative number but this could mean refunds - check with stakeholder.\n",
        "- 175570 rows"
      ]
    },
    {
      "cell_type": "code",
      "execution_count": null,
      "id": "a1d582de-e215-495f-86c0-1c07e0c24ec4",
      "metadata": {
        "id": "a1d582de-e215-495f-86c0-1c07e0c24ec4"
      },
      "outputs": [],
      "source": [
        "# Validating sales_2022.\n",
        "validate_data(sales_2022)"
      ]
    },
    {
      "cell_type": "markdown",
      "id": "02c25b2b-9a42-4f66-9f17-12f83c595c0c",
      "metadata": {
        "id": "02c25b2b-9a42-4f66-9f17-12f83c595c0c"
      },
      "source": [
        "***Notes on validation***:\n",
        "- Some incorrect data types. The codes need to be strings.\n",
        "- Unique values: All provinces are in the data set. Not all dates are in the data set (348). There are a different number of unique values for the other columns than in the 2021 data (see the below table).\n",
        "- Max sold units is 717 which seems reasonable especially as this was the year with the heatwaves. The minimum is a negative number but this could mean refunds - check with stakeholder.\n",
        "- 155415 rows which is less than for the 2021 data (175570 rows)"
      ]
    },
    {
      "cell_type": "markdown",
      "id": "55beb076-356d-4568-a995-35d831bf6c4f",
      "metadata": {
        "id": "55beb076-356d-4568-a995-35d831bf6c4f"
      },
      "source": [
        "![Number of unique values.png](attachment:cd9eab62-828a-407d-87fd-2aa6bd776ffa.png)"
      ]
    },
    {
      "cell_type": "markdown",
      "id": "bf65b00f-ff3f-4467-95f6-4513d6915ca7",
      "metadata": {
        "id": "bf65b00f-ff3f-4467-95f6-4513d6915ca7"
      },
      "source": [
        "#### Vertically concatenate sales_2021 and sales_2022"
      ]
    },
    {
      "cell_type": "code",
      "execution_count": null,
      "id": "4060f134-5450-4107-9777-4071614dbb98",
      "metadata": {
        "id": "4060f134-5450-4107-9777-4071614dbb98"
      },
      "outputs": [],
      "source": [
        "# Concatenate sales_2021 and sales_2022.\n",
        "sales = pd.concat([sales_2021, sales_2022.iloc[1:]], ignore_index=True)"
      ]
    },
    {
      "cell_type": "code",
      "execution_count": null,
      "id": "f0ac9dbf-8f4d-42f3-a0a3-31e23ec899dd",
      "metadata": {
        "id": "f0ac9dbf-8f4d-42f3-a0a3-31e23ec899dd"
      },
      "outputs": [],
      "source": [
        "# View sales head.\n",
        "sales.head()"
      ]
    },
    {
      "cell_type": "code",
      "execution_count": null,
      "id": "1a48c68e-9af6-4ef0-9315-52bfe7cbc6d2",
      "metadata": {
        "id": "1a48c68e-9af6-4ef0-9315-52bfe7cbc6d2"
      },
      "outputs": [],
      "source": [
        "# View sales tail.\n",
        "sales.tail()"
      ]
    },
    {
      "cell_type": "code",
      "execution_count": null,
      "id": "f9cbc955-eb05-45c9-8ed0-2c01f5f4baeb",
      "metadata": {
        "id": "f9cbc955-eb05-45c9-8ed0-2c01f5f4baeb"
      },
      "outputs": [],
      "source": [
        "# Check that it's concatenated properly.\n",
        "sales.to_csv('sales.csv', index=False)"
      ]
    },
    {
      "cell_type": "code",
      "execution_count": null,
      "id": "ade0866e-fb44-4fc0-a0c1-32b7e32bf86e",
      "metadata": {
        "id": "ade0866e-fb44-4fc0-a0c1-32b7e32bf86e"
      },
      "outputs": [],
      "source": [
        "# Check how many rows and columns in sales.\n",
        "sales.shape"
      ]
    },
    {
      "cell_type": "markdown",
      "id": "9468fced-1c1c-498e-a7d0-f02819eeaf57",
      "metadata": {
        "id": "9468fced-1c1c-498e-a7d0-f02819eeaf57"
      },
      "source": [
        "***Note:*** There are 330984 rows and 8 columns."
      ]
    },
    {
      "cell_type": "markdown",
      "id": "ed6811be-da94-4328-bed2-9c35e5f19d0c",
      "metadata": {
        "id": "ed6811be-da94-4328-bed2-9c35e5f19d0c"
      },
      "source": [
        "#### Clean column names"
      ]
    },
    {
      "cell_type": "code",
      "execution_count": null,
      "id": "4eb90eeb-7cf0-40d7-97b2-06314f7300d1",
      "metadata": {
        "id": "4eb90eeb-7cf0-40d7-97b2-06314f7300d1"
      },
      "outputs": [],
      "source": [
        "# Clean column names function.\n",
        "def clean_column_names(df):\n",
        "    df.columns = df.columns.str.strip().str.lower().str.replace(' ', '_')\n",
        "    return df"
      ]
    },
    {
      "cell_type": "code",
      "execution_count": null,
      "id": "c1d40bd1-e9fe-458e-a380-3a1931bdce2a",
      "metadata": {
        "id": "c1d40bd1-e9fe-458e-a380-3a1931bdce2a"
      },
      "outputs": [],
      "source": [
        "# Clean column names.\n",
        "clean_column_names(sales)\n",
        "\n",
        "# View sales column names.\n",
        "sales.columns"
      ]
    },
    {
      "cell_type": "code",
      "execution_count": null,
      "id": "cc75e02f-0e4d-4f81-bc1c-4fe7614a0b1a",
      "metadata": {
        "id": "cc75e02f-0e4d-4f81-bc1c-4fe7614a0b1a"
      },
      "outputs": [],
      "source": [
        "# Rename \"post_code\" to postcode.\n",
        "sales.rename(columns={'post_code': 'postcode'}, inplace=True)\n",
        "\n",
        "# View sales column names.\n",
        "sales.columns"
      ]
    },
    {
      "cell_type": "markdown",
      "id": "2de0ae29-0469-42ce-a47e-d98a04b08e9c",
      "metadata": {
        "id": "2de0ae29-0469-42ce-a47e-d98a04b08e9c"
      },
      "source": [
        "#### Check for missing values (nulls)"
      ]
    },
    {
      "cell_type": "code",
      "execution_count": null,
      "id": "aa7bb23c-5336-47db-a1a9-3dc676806c37",
      "metadata": {
        "id": "aa7bb23c-5336-47db-a1a9-3dc676806c37"
      },
      "outputs": [],
      "source": [
        "# Create functions for missing values.\n",
        "def find_nulls(df):\n",
        "    return df.isnull().sum()\n",
        "\n",
        "def display_nulls(df, column_name):\n",
        "    null_rows = df[df[column_name].isnull()]\n",
        "    display(null_rows)"
      ]
    },
    {
      "cell_type": "code",
      "execution_count": null,
      "id": "b3eed90c-8c7f-484f-a6f5-b854702a8f01",
      "metadata": {
        "id": "b3eed90c-8c7f-484f-a6f5-b854702a8f01"
      },
      "outputs": [],
      "source": [
        "# Find nulls.\n",
        "find_nulls(sales)"
      ]
    },
    {
      "cell_type": "markdown",
      "id": "c268832f-ef04-456d-9dad-e50e3049cb8d",
      "metadata": {
        "id": "c268832f-ef04-456d-9dad-e50e3049cb8d"
      },
      "source": [
        "***Note:*** There are no missing values (nulls)."
      ]
    },
    {
      "cell_type": "markdown",
      "id": "c3e968d2-944c-4cd5-b3c0-a88a89443fe3",
      "metadata": {
        "id": "c3e968d2-944c-4cd5-b3c0-a88a89443fe3"
      },
      "source": [
        "#### Changing data types"
      ]
    },
    {
      "cell_type": "code",
      "execution_count": null,
      "id": "756069ab-1061-4164-864c-2e3ef29a7272",
      "metadata": {
        "id": "756069ab-1061-4164-864c-2e3ef29a7272"
      },
      "outputs": [],
      "source": [
        "# Change the code columns from integers to strings.\n",
        "# Create function\n",
        "def convert_to_string(df, columns):\n",
        "    df[columns] = df[columns].astype(str)\n",
        "    return df\n",
        "\n",
        "# Use function.\n",
        "sales = convert_to_string(sales, ['postcode', 'company_code', 'sales_location'])\n",
        "\n",
        "# Check data types of sales.\n",
        "sales.dtypes"
      ]
    },
    {
      "cell_type": "code",
      "execution_count": null,
      "id": "261e1d22-20e4-4831-8ea8-494883376c10",
      "metadata": {
        "id": "261e1d22-20e4-4831-8ea8-494883376c10"
      },
      "outputs": [],
      "source": [
        "# Convert \"date\" to datetime, assuming the format day, month, year for all rows.\n",
        "# If the day, month, or years aren't in this format for all rows, this will be discovering when creating separate date, month, and year columns.\n",
        "\n",
        "# Create function.\n",
        "def convert_to_datetime(df, column_name, date_format=\"%d/%m/%Y\"):\n",
        "    df[column_name] = pd.to_datetime(df[column_name], format=date_format)\n",
        "    return df\n",
        "\n",
        "# Use function.\n",
        "sales = convert_to_datetime(sales, 'date')\n",
        "\n",
        "# Check data types of sales.\n",
        "sales.dtypes"
      ]
    },
    {
      "cell_type": "code",
      "execution_count": null,
      "id": "54b6ea6d-e5d1-4b6b-8a44-b50bbeeda207",
      "metadata": {
        "id": "54b6ea6d-e5d1-4b6b-8a44-b50bbeeda207"
      },
      "outputs": [],
      "source": [
        "# Function to seperate date, month, and year columns & display unique values\n",
        "def split_date(df, date_column):\n",
        "    df['day'] = df[date_column].dt.day\n",
        "    df['month'] = df[date_column].dt.month\n",
        "    df['year'] = df[date_column].dt.year\n",
        "\n",
        "    print(\"Day:\", np.sort(df['day'].unique()))\n",
        "    print(\"Month:\", np.sort(df['month'].unique()))\n",
        "    print(\"Year:\", np.sort(df['year'].unique()))\n",
        "\n",
        "    return df"
      ]
    },
    {
      "cell_type": "code",
      "execution_count": null,
      "id": "564cffb4-84e5-4d3b-a283-7f9cea192e77",
      "metadata": {
        "id": "564cffb4-84e5-4d3b-a283-7f9cea192e77"
      },
      "outputs": [],
      "source": [
        "# Create separate date, month, and year columns & display unique values\n",
        "sales = split_date(sales, 'date')"
      ]
    },
    {
      "cell_type": "code",
      "execution_count": null,
      "id": "31572d4b-d7b7-497f-816d-f8c7bf19a9ed",
      "metadata": {
        "id": "31572d4b-d7b7-497f-816d-f8c7bf19a9ed"
      },
      "outputs": [],
      "source": [
        "# Function to create a \"month_text\" column with the month values as text abbreviations & display unique values\n",
        "\n",
        "def add_month_text_column(df, date_column):\n",
        "    # Create the \"month_text\" column with month abbreviations\n",
        "    df['month_text'] = df[date_column].dt.month_name().str[:3]\n",
        "\n",
        "    # View the unique values of month_text\n",
        "    print(df['month_text'].unique())\n",
        "\n",
        "    return df"
      ]
    },
    {
      "cell_type": "code",
      "execution_count": null,
      "id": "8bb6188d-1dea-433e-8ed8-cd5a34ff0e5c",
      "metadata": {
        "id": "8bb6188d-1dea-433e-8ed8-cd5a34ff0e5c"
      },
      "outputs": [],
      "source": [
        "# Create a \"month_text\" column with the month values as text abbreviations & display unique values\n",
        "sales = add_month_text_column(sales, 'date')"
      ]
    },
    {
      "cell_type": "markdown",
      "id": "54d7e5a2-95c6-4592-ac15-c9779d8f7679",
      "metadata": {
        "id": "54d7e5a2-95c6-4592-ac15-c9779d8f7679"
      },
      "source": [
        "#### Create additional columns: day of the week, season"
      ]
    },
    {
      "cell_type": "code",
      "execution_count": null,
      "id": "45ef65c6-2da2-4835-9273-be6fae20c66f",
      "metadata": {
        "id": "45ef65c6-2da2-4835-9273-be6fae20c66f"
      },
      "outputs": [],
      "source": [
        "# Function to create a \"day of the week\" column & display unique values\n",
        "def add_day_of_week_column(df, date_column):\n",
        "    # Create the \"day_of_week\" column\n",
        "    df['day_of_week'] = df[date_column].dt.day_name()\n",
        "\n",
        "    # View the unique values of day_of_week\n",
        "    print(df['day_of_week'].unique())\n",
        "\n",
        "    return df"
      ]
    },
    {
      "cell_type": "code",
      "execution_count": null,
      "id": "63e79183-766b-42eb-a853-57d57d28f0af",
      "metadata": {
        "id": "63e79183-766b-42eb-a853-57d57d28f0af"
      },
      "outputs": [],
      "source": [
        "# Create a \"day of the week\" column & display unique values\n",
        "sales = add_day_of_week_column(sales, 'date')"
      ]
    },
    {
      "cell_type": "code",
      "execution_count": null,
      "id": "63d96075-51bb-4d31-976f-9809c8852ba7",
      "metadata": {
        "id": "63d96075-51bb-4d31-976f-9809c8852ba7"
      },
      "outputs": [],
      "source": [
        "# Create a function with a mapping dictionary for the seasons & create a new column to display seasons\n",
        "def add_season_column(df, month_text_column):\n",
        "    month_season_mapping = {\n",
        "        'Jan': 'Winter',\n",
        "        'Feb': 'Winter',\n",
        "        'Mar': 'Spring',\n",
        "        'Apr': 'Spring',\n",
        "        'May': 'Spring',\n",
        "        'Jun': 'Summer',\n",
        "        'Jul': 'Summer',\n",
        "        'Aug': 'Summer',\n",
        "        'Sep': 'Autumn',\n",
        "        'Oct': 'Autumn',\n",
        "        'Nov': 'Autumn',\n",
        "        'Dec': 'Winter'\n",
        "    }\n",
        "    df['season'] = df[month_text_column].replace(month_season_mapping)\n",
        "    print(df['season'].unique())\n",
        "\n",
        "    return df"
      ]
    },
    {
      "cell_type": "code",
      "execution_count": null,
      "id": "f3fe6c43-184c-4de4-af67-a878e8863333",
      "metadata": {
        "id": "f3fe6c43-184c-4de4-af67-a878e8863333"
      },
      "outputs": [],
      "source": [
        "# Create a season column & check unique values\n",
        "sales = add_season_column(sales, 'month_text')"
      ]
    },
    {
      "cell_type": "markdown",
      "id": "5e56a929-f7f7-4b39-9121-a8370404296a",
      "metadata": {
        "id": "5e56a929-f7f7-4b39-9121-a8370404296a"
      },
      "source": [
        "#### Cleaning string values"
      ]
    },
    {
      "cell_type": "code",
      "execution_count": null,
      "id": "0c4f7206-7827-43d0-8969-fb70982c2632",
      "metadata": {
        "id": "0c4f7206-7827-43d0-8969-fb70982c2632"
      },
      "outputs": [],
      "source": [
        "# Create a function to clean the string values by changing to title text and removing special characters.\n",
        "def clean_text(df, columns):\n",
        "        for column in columns:\n",
        "            df[column] = df[column].str.title()\n",
        "            df[column] = df[column].str.replace(r'[^a-zA-ZáéíóúñÁÉÍÓÚÑüÜ\\s/1-2]', '', regex=True)\n",
        "        return df"
      ]
    },
    {
      "cell_type": "code",
      "execution_count": null,
      "id": "fbafd8d6-ca0c-4849-a10b-23af4dcc6a82",
      "metadata": {
        "id": "fbafd8d6-ca0c-4849-a10b-23af4dcc6a82"
      },
      "outputs": [],
      "source": [
        "# View sales again.\n",
        "sales.head(2)"
      ]
    },
    {
      "cell_type": "code",
      "execution_count": null,
      "id": "5cd596a0-02df-4d23-a4ee-25b2e180ef20",
      "metadata": {
        "id": "5cd596a0-02df-4d23-a4ee-25b2e180ef20"
      },
      "outputs": [],
      "source": [
        "# Use the clean_text function of province, town/city, and sales_location.\n",
        "clean_text(sales, ['province', 'town/city', 'sales_location'])\n",
        "\n",
        "# View sales.\n",
        "sales.head()"
      ]
    },
    {
      "cell_type": "code",
      "execution_count": null,
      "id": "0b30e232-788f-4771-a91b-8ed47280a8c2",
      "metadata": {
        "id": "0b30e232-788f-4771-a91b-8ed47280a8c2"
      },
      "outputs": [],
      "source": [
        "# Check unique values in the province column.\n",
        "sales['province'].unique()"
      ]
    },
    {
      "cell_type": "markdown",
      "id": "bde8fb4a-b6c0-4f71-828d-c4091d445114",
      "metadata": {
        "id": "bde8fb4a-b6c0-4f71-828d-c4091d445114"
      },
      "source": [
        "Some of these province names are incorrect."
      ]
    },
    {
      "cell_type": "code",
      "execution_count": null,
      "id": "bb1a4472-287b-467a-9d3f-40f220da45b0",
      "metadata": {
        "id": "bb1a4472-287b-467a-9d3f-40f220da45b0"
      },
      "outputs": [],
      "source": [
        "# Replace the incorrect province name with the correct one.\n",
        "# Create a dictionary.\n",
        "province_dict = {'removed to ensure anonymity of employer'}\n",
        "\n",
        "\n",
        "# Apply the dictionary to clean province values.\n",
        "sales['province'] = sales['province'].replace(province_dict)"
      ]
    },
    {
      "cell_type": "code",
      "execution_count": null,
      "id": "b31d6d04-b024-4794-924d-47fc88e6cd04",
      "metadata": {
        "scrolled": true,
        "id": "b31d6d04-b024-4794-924d-47fc88e6cd04"
      },
      "outputs": [],
      "source": [
        "# View province unique values (in alphabetical order).\n",
        "sorted(sales['province'].unique())"
      ]
    },
    {
      "cell_type": "code",
      "execution_count": null,
      "id": "6b939179-5fcf-4601-a6c6-bfb6ee4a1a9a",
      "metadata": {
        "scrolled": true,
        "id": "6b939179-5fcf-4601-a6c6-bfb6ee4a1a9a"
      },
      "outputs": [],
      "source": [
        "# Check unique values in town/city column.\n",
        "sales['town/city'].unique()"
      ]
    },
    {
      "cell_type": "markdown",
      "id": "9ac3d1b5-cdc5-46e3-9406-b1b2bd7daa6f",
      "metadata": {
        "id": "9ac3d1b5-cdc5-46e3-9406-b1b2bd7daa6f"
      },
      "source": [
        "Some of these towns/cities aren't correct (incorrect spelling or have the province at the end of the name)."
      ]
    },
    {
      "cell_type": "code",
      "execution_count": null,
      "id": "f9d24ea7-ab60-442c-8bf4-d2bddf58bb06",
      "metadata": {
        "id": "f9d24ea7-ab60-442c-8bf4-d2bddf58bb06"
      },
      "outputs": [],
      "source": [
        "# Replace the incorrect town/city name with the correct one.\n",
        "# Create a dictionary.\n",
        "town_cities_dict = {'removed to ensure anonymity of employer'}\n",
        "\n",
        "# Apply the dictionary to clean town/city values.\n",
        "sales['town/city'] = sales['town/city'].replace(town_cities_dict)"
      ]
    },
    {
      "cell_type": "code",
      "execution_count": null,
      "id": "46cb3bf1-3f63-445b-9234-266e4ed1df57",
      "metadata": {
        "id": "46cb3bf1-3f63-445b-9234-266e4ed1df57"
      },
      "outputs": [],
      "source": [
        "# View town/city unique values (in alphabetical order).\n",
        "sorted(sales['town/city'].unique())"
      ]
    },
    {
      "cell_type": "code",
      "execution_count": null,
      "id": "28245829-b915-4d0f-96cd-71d971963152",
      "metadata": {
        "id": "28245829-b915-4d0f-96cd-71d971963152"
      },
      "outputs": [],
      "source": [
        "# View unique sales locations names.\n",
        "sorted(sales['sales_location'].unique())"
      ]
    },
    {
      "cell_type": "code",
      "execution_count": null,
      "id": "2d718f6e-97cc-4c44-b8c9-380dcdcc26ed",
      "metadata": {
        "id": "2d718f6e-97cc-4c44-b8c9-380dcdcc26ed"
      },
      "outputs": [],
      "source": [
        "# Remove any extra spaces between words.\n",
        "# Replace multiple spaces with a single space\n",
        "sales['sales_location'] = sales['sales_location'].apply(lambda x: re.sub(r'\\s+', ' ', x).strip())\n",
        "\n",
        "# View sales_location unique values.\n",
        "sorted(sales['sales_location'].unique())"
      ]
    },
    {
      "cell_type": "code",
      "execution_count": null,
      "id": "a6137a01-d52b-4031-bb34-866d8e9f940e",
      "metadata": {
        "scrolled": true,
        "id": "a6137a01-d52b-4031-bb34-866d8e9f940e"
      },
      "outputs": [],
      "source": [
        "# Change the roman numerals to the correct format e.g. \"Ii\" to \"II\".\n",
        "sales['sales_location'] = (\n",
        "    sales['sales_location']\n",
        "    .str.replace('Ii', 'II')\n",
        "    .str.replace('Iii', 'III')\n",
        "    .str.replace('IIi', 'III')\n",
        "    .str.replace('Iv', 'IV'))\n",
        "\n",
        "# View sales_location unique values.\n",
        "sorted(sales['sales_location'].unique())"
      ]
    },
    {
      "cell_type": "code",
      "execution_count": null,
      "id": "168b20bc-dbad-4675-9246-e2468a9e5760",
      "metadata": {
        "id": "168b20bc-dbad-4675-9246-e2468a9e5760"
      },
      "outputs": [],
      "source": [
        "# Check unique postcodes (should all have X digits).\n",
        "sales['postcode'].unique()"
      ]
    },
    {
      "cell_type": "markdown",
      "id": "60bb6a7d-731a-452d-944f-eca18077e89e",
      "metadata": {
        "id": "60bb6a7d-731a-452d-944f-eca18077e89e"
      },
      "source": [
        "Not all of these have 5 digits. Are the 4 digit postcodes supposed to have a zero in front?"
      ]
    },
    {
      "cell_type": "code",
      "execution_count": null,
      "id": "96dace8e-9e91-4a37-9600-5312dbfabbce",
      "metadata": {
        "id": "96dace8e-9e91-4a37-9600-5312dbfabbce"
      },
      "outputs": [],
      "source": [
        "# View all wrong amount digit postcodes.\n",
        "four_digit_postcodes = sales[sales['postcode'].apply(lambda x: isinstance(x, str) and len(x) == Y)]\n",
        "\n",
        "unique_postcode_province = four_digit_postcodes[['postcode', 'province']].drop_duplicates()\n",
        "\n",
        "unique_postcode_province"
      ]
    },
    {
      "cell_type": "markdown",
      "id": "e07555a9-a779-4ec1-867e-06876bb6bf32",
      "metadata": {
        "id": "e07555a9-a779-4ec1-867e-06876bb6bf32"
      },
      "source": [
        "This is a lot of incorrect postcodes so I will get AI to check whether these just require a zero in front. To do this, I will create a dictionary list."
      ]
    },
    {
      "cell_type": "code",
      "execution_count": null,
      "id": "62f90336-f041-44d4-ba36-246acfb00949",
      "metadata": {
        "scrolled": true,
        "id": "62f90336-f041-44d4-ba36-246acfb00949"
      },
      "outputs": [],
      "source": [
        "# Create a list of strings.\n",
        "postcode_province_list = [f\"{postcode}:{province}\" for postcode, province in zip(unique_postcode_province['postcode'], unique_postcode_province['province'])]\n",
        "\n",
        "# View the list.\n",
        "postcode_province_list"
      ]
    },
    {
      "cell_type": "markdown",
      "id": "a5b3bde8-98d9-4825-86f0-90e2f16c15c3",
      "metadata": {
        "id": "a5b3bde8-98d9-4825-86f0-90e2f16c15c3"
      },
      "source": [
        "I cross checked this list with the province identifier. I can confirm that a zero needs to be added to all of these postcodes at the start."
      ]
    },
    {
      "cell_type": "code",
      "execution_count": null,
      "id": "d536ccee-29c8-4362-b223-42ece2a3c28c",
      "metadata": {
        "scrolled": true,
        "id": "d536ccee-29c8-4362-b223-42ece2a3c28c"
      },
      "outputs": [],
      "source": [
        "# Add a leading zero to all Y-digit postcodes.\n",
        "\n",
        "# Create function.\n",
        "def add_leading_zero(postcode):\n",
        "    return postcode if len(postcode) == X else '0' + postcode\n",
        "\n",
        "# Apply the function to the postcode column.\n",
        "sales['postcode'] = sales['postcode'].apply(add_leading_zero)\n",
        "\n",
        "# View all unique postcodes.\n",
        "sales['postcode'].unique()"
      ]
    },
    {
      "cell_type": "code",
      "execution_count": null,
      "id": "aaa852ca-deaf-4218-999c-a4b7b64da149",
      "metadata": {
        "id": "aaa852ca-deaf-4218-999c-a4b7b64da149"
      },
      "outputs": [],
      "source": [
        "# Check that each sales_location only has one unique sales_location code assigned to it.\n",
        "\n",
        "# Group by station name and check the number of unique station codes\n",
        "station_code_check = sales.groupby('sales_location')['sales_location_code'].nunique()\n",
        "\n",
        "# Find sales_location that have more than one unique code\n",
        "stations_with_multiple_codes = station_code_check[station_code_check > 1]\n",
        "\n",
        "# View how many sales_location have more than one unique code.\n",
        "stations_with_multiple_codes"
      ]
    },
    {
      "cell_type": "markdown",
      "id": "4308f245-fab5-49ce-a9d8-89404e1cb155",
      "metadata": {
        "id": "4308f245-fab5-49ce-a9d8-89404e1cb155"
      },
      "source": [
        "No saleslocations have multiple codes."
      ]
    },
    {
      "cell_type": "markdown",
      "id": "d1195da0-737a-4eeb-bc96-0684be9033a2",
      "metadata": {
        "id": "d1195da0-737a-4eeb-bc96-0684be9033a2"
      },
      "source": [
        "#### Check for duplicates."
      ]
    },
    {
      "cell_type": "code",
      "execution_count": null,
      "id": "51831ea5-39fd-42f8-a5b6-332f2a0e3e87",
      "metadata": {
        "id": "51831ea5-39fd-42f8-a5b6-332f2a0e3e87"
      },
      "outputs": [],
      "source": [
        "# Check for duplicates.\n",
        "sales.duplicated().sum()"
      ]
    },
    {
      "cell_type": "code",
      "execution_count": null,
      "id": "06b2813f-8d65-4dce-91b0-ddcc086457fb",
      "metadata": {
        "id": "06b2813f-8d65-4dce-91b0-ddcc086457fb"
      },
      "outputs": [],
      "source": [
        "# View sales.\n",
        "sales"
      ]
    },
    {
      "cell_type": "markdown",
      "id": "8b130c9d-c4e6-42ff-93f6-838fa60c9a2c",
      "metadata": {
        "id": "8b130c9d-c4e6-42ff-93f6-838fa60c9a2c"
      },
      "source": [
        "#### Download sales as a csv."
      ]
    },
    {
      "cell_type": "code",
      "execution_count": null,
      "id": "e4443cf9-2853-4755-bfd1-83b40fc032ae",
      "metadata": {
        "id": "e4443cf9-2853-4755-bfd1-83b40fc032ae"
      },
      "outputs": [],
      "source": [
        "# Download as a CSV.\n",
        "sales.to_csv('sales.csv', index=False)"
      ]
    },
    {
      "cell_type": "markdown",
      "id": "86c7ac33-c287-489b-babf-7fa0ec2d6552",
      "metadata": {
        "id": "86c7ac33-c287-489b-babf-7fa0ec2d6552"
      },
      "source": [
        "### Create a filtered sales dataframe for within the 65km radius of metropolitan area"
      ]
    },
    {
      "cell_type": "markdown",
      "id": "2ddf492b-d27e-483e-9bdf-b6a7255fa629",
      "metadata": {
        "id": "2ddf492b-d27e-483e-9bdf-b6a7255fa629"
      },
      "source": [
        "I added leading zeros to the few postcodes that were Y digits long.\n",
        "\n",
        "I took a sample of postcodes to check whether these were in the 65km radius of the metropolitan area. ***There is a possibility that some postcodes or parts of postcodes are slightly outside of the 65km radius.***"
      ]
    },
    {
      "cell_type": "code",
      "execution_count": null,
      "id": "f333de22-fcda-4750-aabd-6aeac2f11862",
      "metadata": {
        "scrolled": true,
        "id": "f333de22-fcda-4750-aabd-6aeac2f11862"
      },
      "outputs": [],
      "source": [
        "# Create a list of postcodes to keep.\n",
        "postcodes_to_keep = ['removed to ensure anonymity of employer']\n",
        "\n",
        "# Create the filtered_sales dataframe.\n",
        "filtered_sales = sales[sales['postcode'].isin(postcodes_to_keep)]\n",
        "\n",
        "# View filtered sales.\n",
        "filtered_sales"
      ]
    },
    {
      "cell_type": "code",
      "execution_count": null,
      "id": "c5b0b906-d6be-4f23-acba-9ba8e359a6c1",
      "metadata": {
        "id": "c5b0b906-d6be-4f23-acba-9ba8e359a6c1"
      },
      "outputs": [],
      "source": [
        "# Check the provinces that are included. If there are provinces included far from the city, it hasn't been filtered properly.\n",
        "filtered_sales['province'].unique()"
      ]
    },
    {
      "cell_type": "markdown",
      "id": "62d34fde-30c8-4696-978b-3c85ce65d027",
      "metadata": {
        "id": "62d34fde-30c8-4696-978b-3c85ce65d027"
      },
      "source": [
        "![Screenshot 2025-04-26 154719.png](attachment:f072d902-2da9-4e0a-bd13-e47de69f27aa.png)"
      ]
    },
    {
      "cell_type": "markdown",
      "id": "1488e71d-babf-4f7f-8d1c-50354b6f4b0c",
      "metadata": {
        "id": "1488e71d-babf-4f7f-8d1c-50354b6f4b0c"
      },
      "source": [
        "Yes, these provinces make sense."
      ]
    },
    {
      "cell_type": "code",
      "execution_count": null,
      "id": "b7e22651-78c5-4ac7-bbbe-cefcc752db1f",
      "metadata": {
        "id": "b7e22651-78c5-4ac7-bbbe-cefcc752db1f"
      },
      "outputs": [],
      "source": [
        "# Download as a CSV.\n",
        "filtered_sales.to_csv('filtered_sales.csv', index=False)"
      ]
    },
    {
      "cell_type": "markdown",
      "id": "23c0f679-c469-4ad1-9a4a-ba714b713281",
      "metadata": {
        "id": "23c0f679-c469-4ad1-9a4a-ba714b713281"
      },
      "source": [
        "## Temperature data"
      ]
    },
    {
      "cell_type": "markdown",
      "id": "91864752-fd55-49ed-85fb-a68fb5953fc0",
      "metadata": {
        "id": "91864752-fd55-49ed-85fb-a68fb5953fc0"
      },
      "source": [
        "#### Load files"
      ]
    },
    {
      "cell_type": "code",
      "execution_count": null,
      "id": "951c5847-aff0-422e-8a46-ff2cdf1ea749",
      "metadata": {
        "id": "951c5847-aff0-422e-8a46-ff2cdf1ea749"
      },
      "outputs": [],
      "source": [
        "# Load the CSV files.\n",
        "temperatures_2021 = pd.read_csv(\"temperature-city-2021.csv\")\n",
        "temperatures_2022 = pd.read_csv(\"temperature-city-2022.csv\")"
      ]
    },
    {
      "cell_type": "markdown",
      "id": "4d2ec47a-d3cb-4880-96bd-69d96f381374",
      "metadata": {
        "id": "4d2ec47a-d3cb-4880-96bd-69d96f381374"
      },
      "source": [
        "#### Vertically concatenating the two data files."
      ]
    },
    {
      "cell_type": "code",
      "execution_count": null,
      "id": "0220a858-624c-4385-b40e-eff812878e92",
      "metadata": {
        "id": "0220a858-624c-4385-b40e-eff812878e92"
      },
      "outputs": [],
      "source": [
        "# Concatenate the two data sets.\n",
        "temperatures_2021['year'] = 2021\n",
        "temperatures_2022['year'] = 2022\n",
        "\n",
        "temperatures = pd.concat([temperatures_2021, temperatures_2022], ignore_index=True)"
      ]
    },
    {
      "cell_type": "markdown",
      "id": "bdd77b2a-9f51-445c-818d-9a003a0ea96b",
      "metadata": {
        "id": "bdd77b2a-9f51-445c-818d-9a003a0ea96b"
      },
      "source": [
        "#### Validating the data."
      ]
    },
    {
      "cell_type": "code",
      "execution_count": null,
      "id": "2c99267b-7940-4d93-89f2-6df08c4703f5",
      "metadata": {
        "id": "2c99267b-7940-4d93-89f2-6df08c4703f5"
      },
      "outputs": [],
      "source": [
        "# Validate the data.\n",
        "validate_data(temperatures)"
      ]
    },
    {
      "cell_type": "markdown",
      "id": "c33bd795-cdbe-4472-b261-bb0a099bf03a",
      "metadata": {
        "id": "c33bd795-cdbe-4472-b261-bb0a099bf03a"
      },
      "source": [
        "#### Data cleaning"
      ]
    },
    {
      "cell_type": "code",
      "execution_count": null,
      "id": "84b271a6-63ce-49be-8622-e983da34437c",
      "metadata": {
        "id": "84b271a6-63ce-49be-8622-e983da34437c"
      },
      "outputs": [],
      "source": [
        "# Rename columns for easier processing\n",
        "temperatures.rename(columns={'tavg': 'avg_temp', 'tmin': 'min_temp',\n",
        "                          'tmax': 'max_temp','prcp': 'precip',\n",
        "                          'wdir': 'wind_dir','wspd': 'wind_speed',\n",
        "                          'wpgt': 'wind_peak','pres': 'avg_pressure',\n",
        "                          'tsun': 'sun_minutes'}, inplace=True)\n",
        "temperatures.columns"
      ]
    },
    {
      "cell_type": "code",
      "execution_count": null,
      "id": "a3ae9503-e175-4f66-8e45-0e8ca134cf58",
      "metadata": {
        "id": "a3ae9503-e175-4f66-8e45-0e8ca134cf58"
      },
      "outputs": [],
      "source": [
        "# Checking for missing values (nulls).\n",
        "find_nulls(temperatures)"
      ]
    },
    {
      "cell_type": "code",
      "execution_count": null,
      "id": "145ce3cd-15cd-4494-a98c-96638cc0c377",
      "metadata": {
        "id": "145ce3cd-15cd-4494-a98c-96638cc0c377"
      },
      "outputs": [],
      "source": [
        "# Remove columns snow, wind_peak & sun_minutes as they do not contain data (713 out of 713 null values)\n",
        "temperatures.drop(columns=['snow', 'wind_peak', 'sun_minutes'], inplace=True)"
      ]
    },
    {
      "cell_type": "code",
      "execution_count": null,
      "id": "d7687cdb-560c-465a-a480-4025544f6ce4",
      "metadata": {
        "id": "d7687cdb-560c-465a-a480-4025544f6ce4"
      },
      "outputs": [],
      "source": [
        "# Display rows with null values in avg_temp\n",
        "display_nulls(temperatures, 'avg_temp')"
      ]
    },
    {
      "cell_type": "code",
      "execution_count": null,
      "id": "7f3fb41e-ee5f-4b03-86fb-e9aba48f33ff",
      "metadata": {
        "id": "7f3fb41e-ee5f-4b03-86fb-e9aba48f33ff"
      },
      "outputs": [],
      "source": [
        "# Display rows with null values in wind_dir\n",
        "display_nulls(temperatures, 'wind_dir')"
      ]
    },
    {
      "cell_type": "code",
      "execution_count": null,
      "id": "86abb9d0-a6a2-4e99-bb72-bb58c01d9e12",
      "metadata": {
        "id": "86abb9d0-a6a2-4e99-bb72-bb58c01d9e12"
      },
      "outputs": [],
      "source": [
        "# Display rows with null values in wind_speed\n",
        "display_nulls(temperatures, 'wind_speed')"
      ]
    },
    {
      "cell_type": "code",
      "execution_count": null,
      "id": "8f93a386-d588-48dd-aefe-24a910eb3114",
      "metadata": {
        "id": "8f93a386-d588-48dd-aefe-24a910eb3114"
      },
      "outputs": [],
      "source": [
        "# Display rows with null values in avg_pressure\n",
        "display_nulls(temperatures, 'avg_pressure')"
      ]
    },
    {
      "cell_type": "markdown",
      "id": "aca862c8-21f4-4419-9353-6b2022e8df23",
      "metadata": {
        "id": "aca862c8-21f4-4419-9353-6b2022e8df23"
      },
      "source": [
        "***Handling nulls***\n",
        "\n",
        "Null values will not be removed as the columns still contain valuable data, they will not be changed to 00 or avg values to keep the\n",
        "data set to avoid misrepresentation."
      ]
    },
    {
      "cell_type": "code",
      "execution_count": null,
      "id": "4b9da32e-bad9-49c2-9d12-52f35f9a2647",
      "metadata": {
        "id": "4b9da32e-bad9-49c2-9d12-52f35f9a2647"
      },
      "outputs": [],
      "source": [
        "# Check if all dates are entered YYYY-MM-DD or if there are inconsistencies.\n",
        "length_ok = temperatures['date'].astype(str).str.len() == 10\n",
        "hyphens_ok = temperatures['date'].astype(str).str.count('-') == 2\n",
        "format_ok = length_ok & hyphens_ok\n",
        "invalid_dates = temperatures[~format_ok]\n",
        "\n",
        "if invalid_dates.empty:\n",
        "    print(\"All dates are correctly formatted as YYYY-MM-DD.\")\n",
        "else:\n",
        "    print(\"The following rows have incorrectly formatted dates:\")\n",
        "    print(invalid_dates)"
      ]
    },
    {
      "cell_type": "code",
      "execution_count": null,
      "id": "49fc6f04-44f0-4e4e-8bbd-0a801eaf3513",
      "metadata": {
        "id": "49fc6f04-44f0-4e4e-8bbd-0a801eaf3513"
      },
      "outputs": [],
      "source": [
        "# Check if there are any missing dates\n",
        "temperatures['date'] = pd.to_datetime(temperatures['date'])\n",
        "full_dates = pd.date_range(start=temperatures['date'].min(), end=temperatures['date'].max())\n",
        "missing_dates = full_dates.difference(temperatures['date'])\n",
        "\n",
        "if missing_dates.empty:\n",
        "    print(\"There are no missing dates in the dataset.\")\n",
        "else:\n",
        "    print(f\"The following dates are missing: {missing_dates.tolist()}\")"
      ]
    },
    {
      "cell_type": "code",
      "execution_count": null,
      "id": "4e230c58-e498-4134-9821-d0e589d00bc3",
      "metadata": {
        "id": "4e230c58-e498-4134-9821-d0e589d00bc3"
      },
      "outputs": [],
      "source": [
        "# Convert 'date' to datetime without changing format\n",
        "temperatures['date'] = pd.to_datetime(temperatures['date'], format='%Y-%m-%d')"
      ]
    },
    {
      "cell_type": "code",
      "execution_count": null,
      "id": "5b8a8e1b-51ec-47d4-8a2d-d31f30361e6f",
      "metadata": {
        "id": "5b8a8e1b-51ec-47d4-8a2d-d31f30361e6f"
      },
      "outputs": [],
      "source": [
        "# Create separate date, month, and year columns & display unique values.\n",
        "temperatures = split_date(temperatures, 'date')"
      ]
    },
    {
      "cell_type": "code",
      "execution_count": null,
      "id": "a51d733d-9266-47c5-ac04-33adf0972a84",
      "metadata": {
        "id": "a51d733d-9266-47c5-ac04-33adf0972a84"
      },
      "outputs": [],
      "source": [
        "# Create a \"day of the week\" column & display unique values\n",
        "temperatures = add_day_of_week_column(temperatures, 'date')"
      ]
    },
    {
      "cell_type": "code",
      "execution_count": null,
      "id": "8f44817f-1b7c-4659-baa4-faf19ab8f8ef",
      "metadata": {
        "id": "8f44817f-1b7c-4659-baa4-faf19ab8f8ef"
      },
      "outputs": [],
      "source": [
        "# Create a \"month_text\" column with the month values as text abbreviations & display unique values.\n",
        "temperatures = add_month_text_column(temperatures, 'date')"
      ]
    },
    {
      "cell_type": "code",
      "execution_count": null,
      "id": "6f7bd007-2d8f-43c8-bfa0-99f66cb70ef1",
      "metadata": {
        "id": "6f7bd007-2d8f-43c8-bfa0-99f66cb70ef1"
      },
      "outputs": [],
      "source": [
        "# Create a \"season\" column & display unique values.\n",
        "temperatures = add_season_column(temperatures, 'month_text')"
      ]
    },
    {
      "cell_type": "code",
      "execution_count": null,
      "id": "3702ebdc-6035-4644-8b35-88e876dc73cb",
      "metadata": {
        "id": "3702ebdc-6035-4644-8b35-88e876dc73cb"
      },
      "outputs": [],
      "source": [
        "temperatures.head()"
      ]
    },
    {
      "cell_type": "code",
      "execution_count": null,
      "id": "bd3060ce-2f86-4bc0-951e-47a11f3cf635",
      "metadata": {
        "id": "bd3060ce-2f86-4bc0-951e-47a11f3cf635"
      },
      "outputs": [],
      "source": [
        "# Reorder the columns for simpler overview\n",
        "ordered_columns = ['date', 'day', 'day_of_week', 'month', 'month_text', 'season', 'year',\n",
        "                   'avg_temp', 'min_temp', 'max_temp', 'precip', 'wind_dir', 'wind_speed', 'avg_pressure']\n",
        "\n",
        "temperatures = temperatures[ordered_columns]\n",
        "\n",
        "temperatures.head()"
      ]
    },
    {
      "cell_type": "code",
      "execution_count": null,
      "id": "81e733b4-29cf-4209-b83f-00e74336465b",
      "metadata": {
        "id": "81e733b4-29cf-4209-b83f-00e74336465b"
      },
      "outputs": [],
      "source": [
        "# Function to identify outliers using IQR method and print Min/Max + Outliers\n",
        "def identify_outliers_iqr(df, column):\n",
        "    min_value = df[column].min()\n",
        "    max_value = df[column].max()\n",
        "\n",
        "    Q1 = df[column].quantile(0.25)\n",
        "    Q3 = df[column].quantile(0.75)\n",
        "    IQR = Q3 - Q1\n",
        "\n",
        "    lower_bound = Q1 - 1.5 * IQR\n",
        "    upper_bound = Q3 + 1.5 * IQR\n",
        "\n",
        "    out_of_range = (df[column] < lower_bound) | (df[column] > upper_bound)\n",
        "    outliers = df[out_of_range]\n",
        "\n",
        "    print(f\"Min value for {column}: {min_value}\")\n",
        "    print(f\"Max value for {column}: {max_value}\")\n",
        "\n",
        "    if not outliers.empty:\n",
        "        print(\"\\nOutliers for\", column)\n",
        "        display(outliers)\n",
        "    else:\n",
        "        print(\"\\nNo outliers found for\", column)\n",
        "\n",
        "    return outliers\n",
        "\n",
        "# Get min, max and outliers for the 'min_temp' column.\n",
        "outliers_min_temp = identify_outliers_iqr(temperatures, 'min_temp')"
      ]
    },
    {
      "cell_type": "code",
      "execution_count": null,
      "id": "1084dea6-431d-4299-9962-be748cb69405",
      "metadata": {
        "id": "1084dea6-431d-4299-9962-be748cb69405"
      },
      "outputs": [],
      "source": [
        "# Get min, max and outliers for the 'max_temp' column\n",
        "outliers_max_temp = identify_outliers_iqr(temperatures, 'max_temp')"
      ]
    },
    {
      "cell_type": "code",
      "execution_count": null,
      "id": "5165fdbe-5f1e-4c5b-9bf9-62a4839d051b",
      "metadata": {
        "id": "5165fdbe-5f1e-4c5b-9bf9-62a4839d051b"
      },
      "outputs": [],
      "source": [
        "# Get min, max and outliers for the 'avg_temp' column\n",
        "outliers_avg_temp = identify_outliers_iqr(temperatures, 'avg_temp')"
      ]
    },
    {
      "cell_type": "code",
      "execution_count": null,
      "id": "9b3ead6f-ce94-470e-afb5-d32273dfb208",
      "metadata": {
        "id": "9b3ead6f-ce94-470e-afb5-d32273dfb208"
      },
      "outputs": [],
      "source": [
        "# Get min, max and outliers for the 'precip' column\n",
        "outliers_precip = identify_outliers_iqr(temperatures, 'precip')"
      ]
    },
    {
      "cell_type": "code",
      "execution_count": null,
      "id": "d100a299-a222-48dc-ae9a-d0f2a2c93a0b",
      "metadata": {
        "id": "d100a299-a222-48dc-ae9a-d0f2a2c93a0b"
      },
      "outputs": [],
      "source": [
        "# Get min, max and outliers for the 'wind_dir' column\n",
        "outliers_wind_dir = identify_outliers_iqr(temperatures, 'wind_dir')"
      ]
    },
    {
      "cell_type": "code",
      "execution_count": null,
      "id": "7e9d42fe-ac38-425d-a036-23e17fa20385",
      "metadata": {
        "id": "7e9d42fe-ac38-425d-a036-23e17fa20385"
      },
      "outputs": [],
      "source": [
        "# Get min, max and outliers for the 'wind_speed' column\n",
        "outliers_wind_speed = identify_outliers_iqr(temperatures, 'wind_speed')"
      ]
    },
    {
      "cell_type": "code",
      "execution_count": null,
      "id": "b98fffcd-6c96-47d1-b8c0-759ff41ecd75",
      "metadata": {
        "id": "b98fffcd-6c96-47d1-b8c0-759ff41ecd75"
      },
      "outputs": [],
      "source": [
        "# Get min, max and outliers for the 'avg_pressure' column\n",
        "outliers_avg_pressure = identify_outliers_iqr(temperatures, 'avg_pressure')"
      ]
    },
    {
      "cell_type": "markdown",
      "id": "c71687ba-ea59-4ed9-8024-dac359297edf",
      "metadata": {
        "id": "c71687ba-ea59-4ed9-8024-dac359297edf"
      },
      "source": [
        "***Handling Outliers***\n",
        "\n",
        "The temperature values in the dataset appear realistic for the metropolitan area — plausible given the city's continental climate. Precipitation outliers above x mm/day, while relatively rare, are consistent with occasional events, particularly during autumn storms. Wind speeds peaking at x km/h are on the higher end but not extreme, likely reflecting stormy or exposed conditions. Atmospheric pressure values ranging from x to x hPa are also within normal weather variation for the area. Overall, the outlier values, while relatively infrequent, fall within realistic bounds for the area's climate. Therefore, the outliers will be kept in the dataset, as they represent valid and plausible meteorological extremes."
      ]
    },
    {
      "cell_type": "markdown",
      "id": "9342107f-a28d-4733-af4c-5da0e15b4607",
      "metadata": {
        "id": "9342107f-a28d-4733-af4c-5da0e15b4607"
      },
      "source": [
        "#### Download temperature CSV."
      ]
    },
    {
      "cell_type": "code",
      "execution_count": null,
      "id": "ce3d2308-0679-4de8-bd13-ed804b07f761",
      "metadata": {
        "id": "ce3d2308-0679-4de8-bd13-ed804b07f761"
      },
      "outputs": [],
      "source": [
        "# Download as a CSV.\n",
        "temperatures.to_csv('temperatures.csv', index=False)"
      ]
    },
    {
      "cell_type": "markdown",
      "id": "817c09e7-d79b-4bbc-991e-06d53de3c3ea",
      "metadata": {
        "id": "817c09e7-d79b-4bbc-991e-06d53de3c3ea"
      },
      "source": [
        "## Merge filtered_sales and temperatures."
      ]
    },
    {
      "cell_type": "code",
      "execution_count": null,
      "id": "9324d888-b74d-4968-a147-73f7d0cd1b3e",
      "metadata": {
        "id": "9324d888-b74d-4968-a147-73f7d0cd1b3e"
      },
      "outputs": [],
      "source": [
        "# Merge temperatures and filtered_sales.\n",
        "filtered_sales_temp = filtered_sales.merge(temperatures, on='date', how='left')\n",
        "\n",
        "# View filtered_sales_temp.\n",
        "filtered_sales_temp"
      ]
    },
    {
      "cell_type": "code",
      "execution_count": null,
      "id": "b1bf1604-87fe-42e1-af63-f49cf1a78a4e",
      "metadata": {
        "id": "b1bf1604-87fe-42e1-af63-f49cf1a78a4e"
      },
      "outputs": [],
      "source": [
        "# View filtered_sales_temp columns.\n",
        "filtered_sales_temp.columns"
      ]
    },
    {
      "cell_type": "code",
      "execution_count": null,
      "id": "893a81af-0a40-4817-af12-481875bbee95",
      "metadata": {
        "id": "893a81af-0a40-4817-af12-481875bbee95"
      },
      "outputs": [],
      "source": [
        "# Drop all duplicate columns.\n",
        "filtered_sales_temp = filtered_sales_temp.drop(columns=['day_y', 'day_of_week_y', 'month_y', 'month_text_y', 'season_y', 'year_y'])\n",
        "\n",
        "# Rename columns.\n",
        "filtered_sales_temp = filtered_sales_temp.rename(columns={'day_x': 'day','month_x': 'month','month_text_x': 'month_text', 'year_x':'year', 'day_of_week_x':'day_of_week', 'season_x':'season'})\n",
        "\n",
        "# View filtered_sales_temp columns.\n",
        "filtered_sales_temp.columns"
      ]
    },
    {
      "cell_type": "markdown",
      "id": "53cbbafb-65df-4626-9b0c-a2728c3f6ac5",
      "metadata": {
        "id": "53cbbafb-65df-4626-9b0c-a2728c3f6ac5"
      },
      "source": [
        "#### Download filtered_sales_temp."
      ]
    },
    {
      "cell_type": "code",
      "execution_count": null,
      "id": "e50ec5e1-3faa-40f5-b08a-be0c611fb888",
      "metadata": {
        "id": "e50ec5e1-3faa-40f5-b08a-be0c611fb888"
      },
      "outputs": [],
      "source": [
        "# Download as a CSV.\n",
        "filtered_sales_temp.to_csv('filtered_sales_temp.csv', index=False)"
      ]
    }
  ],
  "metadata": {
    "kernelspec": {
      "display_name": "Python 3 (ipykernel)",
      "language": "python",
      "name": "python3"
    },
    "language_info": {
      "codemirror_mode": {
        "name": "ipython",
        "version": 3
      },
      "file_extension": ".py",
      "mimetype": "text/x-python",
      "name": "python",
      "nbconvert_exporter": "python",
      "pygments_lexer": "ipython3",
      "version": "3.12.7"
    },
    "colab": {
      "provenance": []
    }
  },
  "nbformat": 4,
  "nbformat_minor": 5
}